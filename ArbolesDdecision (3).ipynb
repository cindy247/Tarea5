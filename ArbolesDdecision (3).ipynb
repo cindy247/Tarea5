{
 "cells": [
  {
   "cell_type": "markdown",
   "id": "4561f60a-a5f0-40e3-a7c4-0243e2b55c86",
   "metadata": {},
   "source": [
    "Analisis de Datos"
   ]
  },
  {
   "cell_type": "markdown",
   "id": "cf3855cd-833b-4d4a-8020-3d2cd2e9a89b",
   "metadata": {},
   "source": [
    "Cindy Patricia Ureche Lopez"
   ]
  },
  {
   "cell_type": "markdown",
   "id": "4e489ae3-efa4-4dbf-a0a3-da7760f781cf",
   "metadata": {},
   "source": [
    "Grupo 202016908_91"
   ]
  },
  {
   "cell_type": "markdown",
   "id": "3f0a144c-7578-4b09-a825-3c37aca9f5ce",
   "metadata": {},
   "source": [
    "Tarea 5"
   ]
  },
  {
   "cell_type": "code",
   "execution_count": 5,
   "id": "309ed851-8ded-455b-9ced-4f1a757be9c0",
   "metadata": {},
   "outputs": [],
   "source": [
    "#Importamos las librerias \n",
    "import pandas as pd\n",
    "import numpy as np\n",
    "import seaborn as sns\n",
    "import matplotlib.pyplot as plt\n",
    "from sklearn import metrics\n",
    "from sklearn.model_selection import train_test_split\n",
    "from sklearn.tree import DecisionTreeClassifier, plot_tree\n",
    "from sklearn.metrics import accuracy_score, precision_score, recall_score, f1_score"
   ]
  },
  {
   "cell_type": "markdown",
   "id": "77d754eb-7520-4ed9-b367-e836b6351091",
   "metadata": {},
   "source": [
    "Análisis Exploratorio de Datos (EDA)"
   ]
  },
  {
   "cell_type": "code",
   "execution_count": 8,
   "id": "34fcd931-9795-4bb7-98bc-a21b00920e01",
   "metadata": {},
   "outputs": [
    {
     "data": {
      "text/html": [
       "<div>\n",
       "<style scoped>\n",
       "    .dataframe tbody tr th:only-of-type {\n",
       "        vertical-align: middle;\n",
       "    }\n",
       "\n",
       "    .dataframe tbody tr th {\n",
       "        vertical-align: top;\n",
       "    }\n",
       "\n",
       "    .dataframe thead th {\n",
       "        text-align: right;\n",
       "    }\n",
       "</style>\n",
       "<table border=\"1\" class=\"dataframe\">\n",
       "  <thead>\n",
       "    <tr style=\"text-align: right;\">\n",
       "      <th></th>\n",
       "      <th>PassengerId</th>\n",
       "      <th>Survived</th>\n",
       "      <th>Pclass</th>\n",
       "      <th>Name</th>\n",
       "      <th>Sex</th>\n",
       "      <th>Age</th>\n",
       "      <th>SibSp</th>\n",
       "      <th>Parch</th>\n",
       "      <th>Ticket</th>\n",
       "      <th>Fare</th>\n",
       "      <th>Cabin</th>\n",
       "      <th>Embarked</th>\n",
       "    </tr>\n",
       "  </thead>\n",
       "  <tbody>\n",
       "    <tr>\n",
       "      <th>0</th>\n",
       "      <td>1</td>\n",
       "      <td>0</td>\n",
       "      <td>3</td>\n",
       "      <td>Braund, Mr. Owen Harris</td>\n",
       "      <td>male</td>\n",
       "      <td>22.0</td>\n",
       "      <td>1</td>\n",
       "      <td>0</td>\n",
       "      <td>A/5 21171</td>\n",
       "      <td>7.2500</td>\n",
       "      <td>NaN</td>\n",
       "      <td>S</td>\n",
       "    </tr>\n",
       "    <tr>\n",
       "      <th>1</th>\n",
       "      <td>2</td>\n",
       "      <td>1</td>\n",
       "      <td>1</td>\n",
       "      <td>Cumings, Mrs. John Bradley (Florence Briggs Th...</td>\n",
       "      <td>female</td>\n",
       "      <td>38.0</td>\n",
       "      <td>1</td>\n",
       "      <td>0</td>\n",
       "      <td>PC 17599</td>\n",
       "      <td>71.2833</td>\n",
       "      <td>C85</td>\n",
       "      <td>C</td>\n",
       "    </tr>\n",
       "    <tr>\n",
       "      <th>2</th>\n",
       "      <td>3</td>\n",
       "      <td>1</td>\n",
       "      <td>3</td>\n",
       "      <td>Heikkinen, Miss. Laina</td>\n",
       "      <td>female</td>\n",
       "      <td>26.0</td>\n",
       "      <td>0</td>\n",
       "      <td>0</td>\n",
       "      <td>STON/O2. 3101282</td>\n",
       "      <td>7.9250</td>\n",
       "      <td>NaN</td>\n",
       "      <td>S</td>\n",
       "    </tr>\n",
       "    <tr>\n",
       "      <th>3</th>\n",
       "      <td>4</td>\n",
       "      <td>1</td>\n",
       "      <td>1</td>\n",
       "      <td>Futrelle, Mrs. Jacques Heath (Lily May Peel)</td>\n",
       "      <td>female</td>\n",
       "      <td>35.0</td>\n",
       "      <td>1</td>\n",
       "      <td>0</td>\n",
       "      <td>113803</td>\n",
       "      <td>53.1000</td>\n",
       "      <td>C123</td>\n",
       "      <td>S</td>\n",
       "    </tr>\n",
       "    <tr>\n",
       "      <th>4</th>\n",
       "      <td>5</td>\n",
       "      <td>0</td>\n",
       "      <td>3</td>\n",
       "      <td>Allen, Mr. William Henry</td>\n",
       "      <td>male</td>\n",
       "      <td>35.0</td>\n",
       "      <td>0</td>\n",
       "      <td>0</td>\n",
       "      <td>373450</td>\n",
       "      <td>8.0500</td>\n",
       "      <td>NaN</td>\n",
       "      <td>S</td>\n",
       "    </tr>\n",
       "  </tbody>\n",
       "</table>\n",
       "</div>"
      ],
      "text/plain": [
       "   PassengerId  Survived  Pclass  \\\n",
       "0            1         0       3   \n",
       "1            2         1       1   \n",
       "2            3         1       3   \n",
       "3            4         1       1   \n",
       "4            5         0       3   \n",
       "\n",
       "                                                Name     Sex   Age  SibSp  \\\n",
       "0                            Braund, Mr. Owen Harris    male  22.0      1   \n",
       "1  Cumings, Mrs. John Bradley (Florence Briggs Th...  female  38.0      1   \n",
       "2                             Heikkinen, Miss. Laina  female  26.0      0   \n",
       "3       Futrelle, Mrs. Jacques Heath (Lily May Peel)  female  35.0      1   \n",
       "4                           Allen, Mr. William Henry    male  35.0      0   \n",
       "\n",
       "   Parch            Ticket     Fare Cabin Embarked  \n",
       "0      0         A/5 21171   7.2500   NaN        S  \n",
       "1      0          PC 17599  71.2833   C85        C  \n",
       "2      0  STON/O2. 3101282   7.9250   NaN        S  \n",
       "3      0            113803  53.1000  C123        S  \n",
       "4      0            373450   8.0500   NaN        S  "
      ]
     },
     "execution_count": 8,
     "metadata": {},
     "output_type": "execute_result"
    }
   ],
   "source": [
    "#Cargamos el dataset \n",
    "data = pd.read_csv(\"Titanic-Dataset.csv\")\n",
    "data.head()"
   ]
  },
  {
   "cell_type": "code",
   "execution_count": 10,
   "id": "28166def-c5e0-453d-b6d7-feca8efd8fbb",
   "metadata": {},
   "outputs": [
    {
     "data": {
      "text/plain": [
       "(891, 12)"
      ]
     },
     "execution_count": 10,
     "metadata": {},
     "output_type": "execute_result"
    }
   ],
   "source": [
    "data.shape"
   ]
  },
  {
   "cell_type": "code",
   "execution_count": 12,
   "id": "14749078-f6c5-4fef-83c3-323f1d99cf84",
   "metadata": {},
   "outputs": [
    {
     "data": {
      "text/html": [
       "<div>\n",
       "<style scoped>\n",
       "    .dataframe tbody tr th:only-of-type {\n",
       "        vertical-align: middle;\n",
       "    }\n",
       "\n",
       "    .dataframe tbody tr th {\n",
       "        vertical-align: top;\n",
       "    }\n",
       "\n",
       "    .dataframe thead th {\n",
       "        text-align: right;\n",
       "    }\n",
       "</style>\n",
       "<table border=\"1\" class=\"dataframe\">\n",
       "  <thead>\n",
       "    <tr style=\"text-align: right;\">\n",
       "      <th></th>\n",
       "      <th>PassengerId</th>\n",
       "      <th>Survived</th>\n",
       "      <th>Pclass</th>\n",
       "      <th>Age</th>\n",
       "      <th>SibSp</th>\n",
       "      <th>Parch</th>\n",
       "      <th>Fare</th>\n",
       "    </tr>\n",
       "  </thead>\n",
       "  <tbody>\n",
       "    <tr>\n",
       "      <th>count</th>\n",
       "      <td>891.000000</td>\n",
       "      <td>891.000000</td>\n",
       "      <td>891.000000</td>\n",
       "      <td>714.000000</td>\n",
       "      <td>891.000000</td>\n",
       "      <td>891.000000</td>\n",
       "      <td>891.000000</td>\n",
       "    </tr>\n",
       "    <tr>\n",
       "      <th>mean</th>\n",
       "      <td>446.000000</td>\n",
       "      <td>0.383838</td>\n",
       "      <td>2.308642</td>\n",
       "      <td>29.699118</td>\n",
       "      <td>0.523008</td>\n",
       "      <td>0.381594</td>\n",
       "      <td>32.204208</td>\n",
       "    </tr>\n",
       "    <tr>\n",
       "      <th>std</th>\n",
       "      <td>257.353842</td>\n",
       "      <td>0.486592</td>\n",
       "      <td>0.836071</td>\n",
       "      <td>14.526497</td>\n",
       "      <td>1.102743</td>\n",
       "      <td>0.806057</td>\n",
       "      <td>49.693429</td>\n",
       "    </tr>\n",
       "    <tr>\n",
       "      <th>min</th>\n",
       "      <td>1.000000</td>\n",
       "      <td>0.000000</td>\n",
       "      <td>1.000000</td>\n",
       "      <td>0.420000</td>\n",
       "      <td>0.000000</td>\n",
       "      <td>0.000000</td>\n",
       "      <td>0.000000</td>\n",
       "    </tr>\n",
       "    <tr>\n",
       "      <th>25%</th>\n",
       "      <td>223.500000</td>\n",
       "      <td>0.000000</td>\n",
       "      <td>2.000000</td>\n",
       "      <td>20.125000</td>\n",
       "      <td>0.000000</td>\n",
       "      <td>0.000000</td>\n",
       "      <td>7.910400</td>\n",
       "    </tr>\n",
       "    <tr>\n",
       "      <th>50%</th>\n",
       "      <td>446.000000</td>\n",
       "      <td>0.000000</td>\n",
       "      <td>3.000000</td>\n",
       "      <td>28.000000</td>\n",
       "      <td>0.000000</td>\n",
       "      <td>0.000000</td>\n",
       "      <td>14.454200</td>\n",
       "    </tr>\n",
       "    <tr>\n",
       "      <th>75%</th>\n",
       "      <td>668.500000</td>\n",
       "      <td>1.000000</td>\n",
       "      <td>3.000000</td>\n",
       "      <td>38.000000</td>\n",
       "      <td>1.000000</td>\n",
       "      <td>0.000000</td>\n",
       "      <td>31.000000</td>\n",
       "    </tr>\n",
       "    <tr>\n",
       "      <th>max</th>\n",
       "      <td>891.000000</td>\n",
       "      <td>1.000000</td>\n",
       "      <td>3.000000</td>\n",
       "      <td>80.000000</td>\n",
       "      <td>8.000000</td>\n",
       "      <td>6.000000</td>\n",
       "      <td>512.329200</td>\n",
       "    </tr>\n",
       "  </tbody>\n",
       "</table>\n",
       "</div>"
      ],
      "text/plain": [
       "       PassengerId    Survived      Pclass         Age       SibSp  \\\n",
       "count   891.000000  891.000000  891.000000  714.000000  891.000000   \n",
       "mean    446.000000    0.383838    2.308642   29.699118    0.523008   \n",
       "std     257.353842    0.486592    0.836071   14.526497    1.102743   \n",
       "min       1.000000    0.000000    1.000000    0.420000    0.000000   \n",
       "25%     223.500000    0.000000    2.000000   20.125000    0.000000   \n",
       "50%     446.000000    0.000000    3.000000   28.000000    0.000000   \n",
       "75%     668.500000    1.000000    3.000000   38.000000    1.000000   \n",
       "max     891.000000    1.000000    3.000000   80.000000    8.000000   \n",
       "\n",
       "            Parch        Fare  \n",
       "count  891.000000  891.000000  \n",
       "mean     0.381594   32.204208  \n",
       "std      0.806057   49.693429  \n",
       "min      0.000000    0.000000  \n",
       "25%      0.000000    7.910400  \n",
       "50%      0.000000   14.454200  \n",
       "75%      0.000000   31.000000  \n",
       "max      6.000000  512.329200  "
      ]
     },
     "execution_count": 12,
     "metadata": {},
     "output_type": "execute_result"
    }
   ],
   "source": [
    "data.describe()"
   ]
  },
  {
   "cell_type": "code",
   "execution_count": 15,
   "id": "300ad3c1-cc39-45f5-baa0-e21c68fb73db",
   "metadata": {},
   "outputs": [
    {
     "data": {
      "text/plain": [
       "PassengerId      0\n",
       "Survived         0\n",
       "Pclass           0\n",
       "Name             0\n",
       "Sex              0\n",
       "Age            177\n",
       "SibSp            0\n",
       "Parch            0\n",
       "Ticket           0\n",
       "Fare             0\n",
       "Cabin          687\n",
       "Embarked         2\n",
       "dtype: int64"
      ]
     },
     "execution_count": 15,
     "metadata": {},
     "output_type": "execute_result"
    }
   ],
   "source": [
    "data.isna().sum()"
   ]
  },
  {
   "cell_type": "markdown",
   "id": "2d915c71-f58f-42ae-a9fa-15943b7adf97",
   "metadata": {},
   "source": [
    "Histograma de la variable Survived"
   ]
  },
  {
   "cell_type": "code",
   "execution_count": 18,
   "id": "0e60c94d-7ee3-4f39-a473-dc400e890e50",
   "metadata": {},
   "outputs": [
    {
     "data": {
      "text/plain": [
       "(array([549.,   0.,   0.,   0.,   0.,   0.,   0.,   0.,   0., 342.]),\n",
       " array([0. , 0.1, 0.2, 0.3, 0.4, 0.5, 0.6, 0.7, 0.8, 0.9, 1. ]),\n",
       " <BarContainer object of 10 artists>)"
      ]
     },
     "execution_count": 18,
     "metadata": {},
     "output_type": "execute_result"
    },
    {
     "data": {
      "image/png": "[encoded data removed]",
      "text/plain": [
       "<Figure size 640x480 with 1 Axes>"
      ]
     },
     "metadata": {},
     "output_type": "display_data"
    }
   ],
   "source": [
    "plt.hist(data.Survived)"
   ]
  },
  {
   "cell_type": "markdown",
   "id": "2e5fa450-a396-45d7-9d67-2e47a6ae15e7",
   "metadata": {},
   "source": [
    "Este histograma muestra la distribución de la variable Survived. La categoría 0 representa a los pasajeros que no sobrevivieron, mientras que la categoría 1 representa a los que sí lo hicieron."
   ]
  },
  {
   "cell_type": "markdown",
   "id": "eb4a0fa6-f3fe-4058-9fe8-88fc39c51392",
   "metadata": {},
   "source": [
    "Diagrama de dispersión de Age vs. Fare"
   ]
  },
  {
   "cell_type": "code",
   "execution_count": 25,
   "id": "5a2db7fe-afd4-47dc-a74d-521dfb63c2e8",
   "metadata": {},
   "outputs": [
    {
     "data": {
      "text/plain": [
       "<Axes: xlabel='Age', ylabel='Fare'>"
      ]
     },
     "execution_count": 25,
     "metadata": {},
     "output_type": "execute_result"
    },
    {
     "data": {
      "image/png": "[encoded data removed]",
      "text/plain": [
       "<Figure size 640x480 with 1 Axes>"
      ]
     },
     "metadata": {},
     "output_type": "display_data"
    }
   ],
   "source": [
    "sns.scatterplot(x='Age', y='Fare', hue='Survived', data=data)"
   ]
  },
  {
   "cell_type": "markdown",
   "id": "ebe388c6-db1a-40ef-b5ec-f0b7d09ac565",
   "metadata": {},
   "source": [
    "Este gráfico representa la relación entre la edad (Age) y la tarifa pagada (Fare), con los puntos coloreados según la supervivencia (Survived)."
   ]
  },
  {
   "cell_type": "markdown",
   "id": "ad0e63a4-b067-47cf-a49e-ca63702c0cef",
   "metadata": {},
   "source": [
    "Boxplot de Fare, Age y Pclass"
   ]
  },
  {
   "cell_type": "code",
   "execution_count": 28,
   "id": "9543a2b7-b00d-46fb-83b0-afaa53051a40",
   "metadata": {},
   "outputs": [
    {
     "data": {
      "image/png": "[encoded data removed]",
      "text/plain": [
       "<Figure size 1000x600 with 1 Axes>"
      ]
     },
     "metadata": {},
     "output_type": "display_data"
    }
   ],
   "source": [
    "# Crear el gráfico\n",
    "plt.figure(figsize=(10, 6))  \n",
    "sns.boxplot(data=data[['Fare', 'Age', 'Pclass']])\n",
    "plt.xticks(rotation=45)\n",
    "plt.title('Distribución de Tarifas, Edades y Clases') \n",
    "plt.ylabel('Valores')\n",
    "plt.show()"
   ]
  },
  {
   "cell_type": "markdown",
   "id": "f887d72d-9fed-4920-b786-1d3cd72907bf",
   "metadata": {},
   "source": [
    "El boxplot permite analizar la distribución y dispersión de las variables Fare, Age y Pclass.\n",
    "Las tarifas (Fare) tienen valores atípicos muy altos, probablemente asociados a pasajeros de primera clase.\n",
    "La edad (Age) está distribuida uniformemente, pero existen algunos valores extremos que podrían representar adultos mayores.\n",
    "La clase (Pclass) muestra grupos más claramente definidos, con menor dispersión."
   ]
  },
  {
   "cell_type": "code",
   "execution_count": 46,
   "id": "011623c6-bccf-4ad6-b9ac-af109a1f5a99",
   "metadata": {},
   "outputs": [
    {
     "name": "stdout",
     "output_type": "stream",
     "text": [
      "Index(['PassengerId', 'Survived', 'Pclass', 'Name', 'Sex', 'Age', 'SibSp',\n",
      "       'Parch', 'Ticket', 'Fare', 'Cabin', 'Embarked'],\n",
      "      dtype='object')\n"
     ]
    }
   ],
   "source": [
    "print(data.columns)"
   ]
  },
  {
   "cell_type": "code",
   "execution_count": 102,
   "id": "6d83f804-99d1-45ef-ba5c-73d3e4f28372",
   "metadata": {},
   "outputs": [],
   "source": [
    "predictors_col = ['Age','PassengerId','Pclass','Fare']  # Características independientes\n",
    "target_col = 'Survived' "
   ]
  },
  {
   "cell_type": "code",
   "execution_count": 104,
   "id": "56efef3a-b2c1-4852-9338-605a2db6279f",
   "metadata": {},
   "outputs": [],
   "source": [
    "predictors = data[predictors_col]\n",
    "target = data[target_col]"
   ]
  },
  {
   "cell_type": "code",
   "execution_count": 106,
   "id": "8dee9feb-834e-49df-b9cf-3be41ea559af",
   "metadata": {},
   "outputs": [
    {
     "data": {
      "text/html": [
       "<div>\n",
       "<style scoped>\n",
       "    .dataframe tbody tr th:only-of-type {\n",
       "        vertical-align: middle;\n",
       "    }\n",
       "\n",
       "    .dataframe tbody tr th {\n",
       "        vertical-align: top;\n",
       "    }\n",
       "\n",
       "    .dataframe thead th {\n",
       "        text-align: right;\n",
       "    }\n",
       "</style>\n",
       "<table border=\"1\" class=\"dataframe\">\n",
       "  <thead>\n",
       "    <tr style=\"text-align: right;\">\n",
       "      <th></th>\n",
       "      <th>Age</th>\n",
       "      <th>PassengerId</th>\n",
       "      <th>Pclass</th>\n",
       "      <th>Fare</th>\n",
       "    </tr>\n",
       "  </thead>\n",
       "  <tbody>\n",
       "    <tr>\n",
       "      <th>0</th>\n",
       "      <td>22.0</td>\n",
       "      <td>1</td>\n",
       "      <td>3</td>\n",
       "      <td>7.2500</td>\n",
       "    </tr>\n",
       "    <tr>\n",
       "      <th>1</th>\n",
       "      <td>38.0</td>\n",
       "      <td>2</td>\n",
       "      <td>1</td>\n",
       "      <td>71.2833</td>\n",
       "    </tr>\n",
       "    <tr>\n",
       "      <th>2</th>\n",
       "      <td>26.0</td>\n",
       "      <td>3</td>\n",
       "      <td>3</td>\n",
       "      <td>7.9250</td>\n",
       "    </tr>\n",
       "    <tr>\n",
       "      <th>3</th>\n",
       "      <td>35.0</td>\n",
       "      <td>4</td>\n",
       "      <td>1</td>\n",
       "      <td>53.1000</td>\n",
       "    </tr>\n",
       "    <tr>\n",
       "      <th>4</th>\n",
       "      <td>35.0</td>\n",
       "      <td>5</td>\n",
       "      <td>3</td>\n",
       "      <td>8.0500</td>\n",
       "    </tr>\n",
       "    <tr>\n",
       "      <th>...</th>\n",
       "      <td>...</td>\n",
       "      <td>...</td>\n",
       "      <td>...</td>\n",
       "      <td>...</td>\n",
       "    </tr>\n",
       "    <tr>\n",
       "      <th>886</th>\n",
       "      <td>27.0</td>\n",
       "      <td>887</td>\n",
       "      <td>2</td>\n",
       "      <td>13.0000</td>\n",
       "    </tr>\n",
       "    <tr>\n",
       "      <th>887</th>\n",
       "      <td>19.0</td>\n",
       "      <td>888</td>\n",
       "      <td>1</td>\n",
       "      <td>30.0000</td>\n",
       "    </tr>\n",
       "    <tr>\n",
       "      <th>888</th>\n",
       "      <td>NaN</td>\n",
       "      <td>889</td>\n",
       "      <td>3</td>\n",
       "      <td>23.4500</td>\n",
       "    </tr>\n",
       "    <tr>\n",
       "      <th>889</th>\n",
       "      <td>26.0</td>\n",
       "      <td>890</td>\n",
       "      <td>1</td>\n",
       "      <td>30.0000</td>\n",
       "    </tr>\n",
       "    <tr>\n",
       "      <th>890</th>\n",
       "      <td>32.0</td>\n",
       "      <td>891</td>\n",
       "      <td>3</td>\n",
       "      <td>7.7500</td>\n",
       "    </tr>\n",
       "  </tbody>\n",
       "</table>\n",
       "<p>891 rows × 4 columns</p>\n",
       "</div>"
      ],
      "text/plain": [
       "      Age  PassengerId  Pclass     Fare\n",
       "0    22.0            1       3   7.2500\n",
       "1    38.0            2       1  71.2833\n",
       "2    26.0            3       3   7.9250\n",
       "3    35.0            4       1  53.1000\n",
       "4    35.0            5       3   8.0500\n",
       "..    ...          ...     ...      ...\n",
       "886  27.0          887       2  13.0000\n",
       "887  19.0          888       1  30.0000\n",
       "888   NaN          889       3  23.4500\n",
       "889  26.0          890       1  30.0000\n",
       "890  32.0          891       3   7.7500\n",
       "\n",
       "[891 rows x 4 columns]"
      ]
     },
     "execution_count": 106,
     "metadata": {},
     "output_type": "execute_result"
    }
   ],
   "source": [
    "predictors"
   ]
  },
  {
   "cell_type": "code",
   "execution_count": 108,
   "id": "e5269dff-2447-4f21-81a2-2b0e7c0dc637",
   "metadata": {},
   "outputs": [
    {
     "data": {
      "text/plain": [
       "0      0\n",
       "1      1\n",
       "2      1\n",
       "3      1\n",
       "4      0\n",
       "      ..\n",
       "886    0\n",
       "887    1\n",
       "888    0\n",
       "889    1\n",
       "890    0\n",
       "Name: Survived, Length: 891, dtype: int64"
      ]
     },
     "execution_count": 108,
     "metadata": {},
     "output_type": "execute_result"
    }
   ],
   "source": [
    "target"
   ]
  },
  {
   "cell_type": "markdown",
   "id": "2ff8aedf-24cf-4d65-94cd-04447c3bdc29",
   "metadata": {},
   "source": [
    "Mapa de calor de la matriz de correlación"
   ]
  },
  {
   "cell_type": "code",
   "execution_count": 110,
   "id": "2e755615-3f3e-4106-8fd7-7700160c78b4",
   "metadata": {},
   "outputs": [
    {
     "data": {
      "text/html": [
       "<div>\n",
       "<style scoped>\n",
       "    .dataframe tbody tr th:only-of-type {\n",
       "        vertical-align: middle;\n",
       "    }\n",
       "\n",
       "    .dataframe tbody tr th {\n",
       "        vertical-align: top;\n",
       "    }\n",
       "\n",
       "    .dataframe thead th {\n",
       "        text-align: right;\n",
       "    }\n",
       "</style>\n",
       "<table border=\"1\" class=\"dataframe\">\n",
       "  <thead>\n",
       "    <tr style=\"text-align: right;\">\n",
       "      <th></th>\n",
       "      <th>Age</th>\n",
       "      <th>PassengerId</th>\n",
       "      <th>Pclass</th>\n",
       "      <th>Fare</th>\n",
       "    </tr>\n",
       "  </thead>\n",
       "  <tbody>\n",
       "    <tr>\n",
       "      <th>Age</th>\n",
       "      <td>1.000000</td>\n",
       "      <td>0.036847</td>\n",
       "      <td>-0.369226</td>\n",
       "      <td>0.096067</td>\n",
       "    </tr>\n",
       "    <tr>\n",
       "      <th>PassengerId</th>\n",
       "      <td>0.036847</td>\n",
       "      <td>1.000000</td>\n",
       "      <td>-0.035144</td>\n",
       "      <td>0.012658</td>\n",
       "    </tr>\n",
       "    <tr>\n",
       "      <th>Pclass</th>\n",
       "      <td>-0.369226</td>\n",
       "      <td>-0.035144</td>\n",
       "      <td>1.000000</td>\n",
       "      <td>-0.549500</td>\n",
       "    </tr>\n",
       "    <tr>\n",
       "      <th>Fare</th>\n",
       "      <td>0.096067</td>\n",
       "      <td>0.012658</td>\n",
       "      <td>-0.549500</td>\n",
       "      <td>1.000000</td>\n",
       "    </tr>\n",
       "  </tbody>\n",
       "</table>\n",
       "</div>"
      ],
      "text/plain": [
       "                  Age  PassengerId    Pclass      Fare\n",
       "Age          1.000000     0.036847 -0.369226  0.096067\n",
       "PassengerId  0.036847     1.000000 -0.035144  0.012658\n",
       "Pclass      -0.369226    -0.035144  1.000000 -0.549500\n",
       "Fare         0.096067     0.012658 -0.549500  1.000000"
      ]
     },
     "execution_count": 110,
     "metadata": {},
     "output_type": "execute_result"
    }
   ],
   "source": [
    "corr = predictors.corr()\n",
    "corr"
   ]
  },
  {
   "cell_type": "code",
   "execution_count": 112,
   "id": "ec3f8f6f-2c0f-4cf1-81b7-c942866bbc0e",
   "metadata": {},
   "outputs": [
    {
     "data": {
      "image/png": "[encoded data removed]",
      "text/plain": [
       "<Figure size 640x480 with 2 Axes>"
      ]
     },
     "metadata": {},
     "output_type": "display_data"
    }
   ],
   "source": [
    "sns.heatmap(corr)\n",
    "plt.title('Matriz de Correlación')\n",
    "plt.show()"
   ]
  },
  {
   "cell_type": "markdown",
   "id": "eb431d2b-9228-4165-85f5-d0cdfb156d96",
   "metadata": {},
   "source": [
    "Este mapa de calor muestra la correlación entre las variables independientes seleccionadas (Age, PassengerId, Pclass, Fare). Los colores indican la dirección y la magnitud de la correlación.\n",
    "Se identifica una fuerte correlación negativa entre Pclass y Fare, lo cual es esperado ya que las tarifas más altas están asociadas a las clases superiores. No se observan correlaciones significativas con Age, lo que sugiere que podría ser menos relevante como predictor."
   ]
  },
  {
   "cell_type": "code",
   "execution_count": 114,
   "id": "3017e8fc-7097-4544-8be5-331d522d9b42",
   "metadata": {},
   "outputs": [],
   "source": [
    "X_train, X_test, y_train, y_test = train_test_split(predictors, target, test_size=0.2, random_state=42)"
   ]
  },
  {
   "cell_type": "code",
   "execution_count": 116,
   "id": "49f75308-fdbd-4efa-9a41-3bd4162e140d",
   "metadata": {},
   "outputs": [],
   "source": [
    "tree = DecisionTreeClassifier()"
   ]
  },
  {
   "cell_type": "markdown",
   "id": "0b64afe0-6147-4085-98d1-c7e94e4a3f02",
   "metadata": {},
   "source": [
    "Árbol de decisión"
   ]
  },
  {
   "cell_type": "code",
   "execution_count": 118,
   "id": "f2afe2f3-162e-4bbb-b155-646409aaf751",
   "metadata": {},
   "outputs": [],
   "source": [
    "arbol = tree.fit(X_train, y_train)"
   ]
  },
  {
   "cell_type": "code",
   "execution_count": 120,
   "id": "52c3057b-b0f6-4006-b880-99058510bea9",
   "metadata": {},
   "outputs": [
    {
     "data": {
      "text/plain": [
       "[Text(0.6763771186440678, 0.98, 'x[2] <= 2.5\\ngini = 0.469\\nsamples = 712\\nvalue = [444, 268]'),\n",
       " Text(0.4341101694915254, 0.94, 'x[3] <= 30.75\\ngini = 0.495\\nsamples = 314\\nvalue = [142, 172]'),\n",
       " Text(0.19661016949152543, 0.9, 'x[0] <= 15.0\\ngini = 0.498\\nsamples = 174\\nvalue = [93, 81]'),\n",
       " Text(0.18305084745762712, 0.86, 'gini = 0.0\\nsamples = 11\\nvalue = [0, 11]'),\n",
       " Text(0.21016949152542372, 0.86, 'x[3] <= 7.75\\ngini = 0.49\\nsamples = 163\\nvalue = [93, 70]'),\n",
       " Text(0.19661016949152543, 0.82, 'gini = 0.0\\nsamples = 10\\nvalue = [10, 0]'),\n",
       " Text(0.22372881355932203, 0.82, 'x[1] <= 19.5\\ngini = 0.496\\nsamples = 153\\nvalue = [83, 70]'),\n",
       " Text(0.21016949152542372, 0.78, 'gini = 0.0\\nsamples = 3\\nvalue = [0, 3]'),\n",
       " Text(0.23728813559322035, 0.78, 'x[1] <= 287.0\\ngini = 0.494\\nsamples = 150\\nvalue = [83, 67]'),\n",
       " Text(0.07457627118644068, 0.74, 'x[0] <= 50.5\\ngini = 0.423\\nsamples = 46\\nvalue = [32, 14]'),\n",
       " Text(0.061016949152542375, 0.7, 'x[1] <= 99.5\\ngini = 0.46\\nsamples = 39\\nvalue = [25, 14]'),\n",
       " Text(0.02711864406779661, 0.66, 'x[3] <= 22.0\\ngini = 0.444\\nsamples = 6\\nvalue = [2, 4]'),\n",
       " Text(0.013559322033898305, 0.62, 'gini = -0.889\\nsamples = 3\\nvalue = [1, 2]'),\n",
       " Text(0.04067796610169491, 0.62, 'gini = 0.0\\nsamples = 3\\nvalue = [1, 2]'),\n",
       " Text(0.09491525423728814, 0.66, 'x[0] <= 38.5\\ngini = 0.422\\nsamples = 33\\nvalue = [23, 10]'),\n",
       " Text(0.06779661016949153, 0.62, 'x[0] <= 32.75\\ngini = 0.384\\nsamples = 24\\nvalue = [19, 5]'),\n",
       " Text(0.05423728813559322, 0.58, 'x[0] <= 29.5\\ngini = 0.351\\nsamples = 19\\nvalue = [14, 5]'),\n",
       " Text(0.04067796610169491, 0.54, 'gini = 0.291\\nsamples = 14\\nvalue = [11, 3]'),\n",
       " Text(0.06779661016949153, 0.54, 'gini = 0.0\\nsamples = 5\\nvalue = [3, 2]'),\n",
       " Text(0.08135593220338982, 0.58, 'gini = 0.0\\nsamples = 5\\nvalue = [5, 0]'),\n",
       " Text(0.12203389830508475, 0.62, 'x[0] <= 44.5\\ngini = 0.5\\nsamples = 9\\nvalue = [4, 5]'),\n",
       " Text(0.10847457627118644, 0.58, 'x[3] <= 22.75\\ngini = 0.494\\nsamples = 6\\nvalue = [3, 3]'),\n",
       " Text(0.09491525423728814, 0.54, 'gini = 0.0\\nsamples = 3\\nvalue = [1, 2]'),\n",
       " Text(0.12203389830508475, 0.54, 'gini = 0.0\\nsamples = 3\\nvalue = [2, 1]'),\n",
       " Text(0.13559322033898305, 0.58, 'gini = nan\\nsamples = 3\\nvalue = [1, 2]'),\n",
       " Text(0.08813559322033898, 0.7, 'gini = 0.0\\nsamples = 7\\nvalue = [7, 0]'),\n",
       " Text(0.4, 0.74, 'x[0] <= 51.5\\ngini = 0.5\\nsamples = 104\\nvalue = [51, 53]'),\n",
       " Text(0.2983050847457627, 0.7, 'x[1] <= 637.0\\ngini = 0.494\\nsamples = 88\\nvalue = [39, 49]'),\n",
       " Text(0.2033898305084746, 0.66, 'x[0] <= 24.5\\ngini = 0.465\\nsamples = 50\\nvalue = [18, 32]'),\n",
       " Text(0.18983050847457628, 0.62, 'gini = 0.0\\nsamples = 8\\nvalue = [0, 8]'),\n",
       " Text(0.21694915254237288, 0.62, 'x[3] <= 13.25\\ngini = 0.49\\nsamples = 42\\nvalue = [18, 24]'),\n",
       " Text(0.16271186440677965, 0.58, 'x[0] <= 27.0\\ngini = 0.375\\nsamples = 16\\nvalue = [4, 12]'),\n",
       " Text(0.14915254237288136, 0.54, 'gini = 0.0\\nsamples = 2\\nvalue = [2, 0]'),\n",
       " Text(0.17627118644067796, 0.54, 'x[3] <= 12.825\\ngini = 0.245\\nsamples = 14\\nvalue = [2, 12]'),\n",
       " Text(0.16271186440677965, 0.5, 'gini = 0.0\\nsamples = 6\\nvalue = [0, 6]'),\n",
       " Text(0.18983050847457628, 0.5, 'x[1] <= 403.5\\ngini = 0.375\\nsamples = 8\\nvalue = [2, 6]'),\n",
       " Text(0.17627118644067796, 0.46, 'gini = 0.0\\nsamples = 3\\nvalue = [0, 3]'),\n",
       " Text(0.2033898305084746, 0.46, 'x[0] <= 29.0\\ngini = 0.48\\nsamples = 5\\nvalue = [2, 3]'),\n",
       " Text(0.18983050847457628, 0.42, 'gini = 0.0\\nsamples = 2\\nvalue = [0, 2]'),\n",
       " Text(0.21694915254237288, 0.42, 'x[0] <= 41.0\\ngini = 0.444\\nsamples = 3\\nvalue = [2, 1]'),\n",
       " Text(0.2033898305084746, 0.38, 'x[0] <= 32.0\\ngini = 0.444\\nsamples = 2\\nvalue = [1, 1]'),\n",
       " Text(0.18983050847457628, 0.34, 'gini = 0.0\\nsamples = 1\\nvalue = [1, 0]'),\n",
       " Text(0.21694915254237288, 0.34, 'gini = 0.0\\nsamples = 1\\nvalue = [0, 1]'),\n",
       " Text(0.2305084745762712, 0.38, 'gini = nan\\nsamples = 1\\nvalue = [1, 0]'),\n",
       " Text(0.2711864406779661, 0.58, 'x[3] <= 29.25\\ngini = 0.497\\nsamples = 26\\nvalue = [14, 12]'),\n",
       " Text(0.2576271186440678, 0.54, 'x[1] <= 418.5\\ngini = 0.493\\nsamples = 22\\nvalue = [14, 8]'),\n",
       " Text(0.2440677966101695, 0.5, 'gini = 0.0\\nsamples = 7\\nvalue = [7, 0]'),\n",
       " Text(0.2711864406779661, 0.5, 'x[1] <= 550.0\\ngini = 0.498\\nsamples = 15\\nvalue = [7, 8]'),\n",
       " Text(0.2576271186440678, 0.46, 'x[1] <= 446.0\\ngini = 0.473\\nsamples = 12\\nvalue = [4, 8]'),\n",
       " Text(0.2440677966101695, 0.42, 'gini = 0.0\\nsamples = 3\\nvalue = [0, 3]'),\n",
       " Text(0.2711864406779661, 0.42, 'x[1] <= 457.0\\ngini = 0.494\\nsamples = 9\\nvalue = [4, 5]'),\n",
       " Text(0.2576271186440678, 0.38, 'gini = 0.0\\nsamples = 2\\nvalue = [2, 0]'),\n",
       " Text(0.2847457627118644, 0.38, 'x[0] <= 33.5\\ngini = 0.408\\nsamples = 7\\nvalue = [2, 5]'),\n",
       " Text(0.2711864406779661, 0.34, 'gini = 0.0\\nsamples = 4\\nvalue = [0, 4]'),\n",
       " Text(0.2983050847457627, 0.34, 'x[0] <= 46.5\\ngini = 0.444\\nsamples = 3\\nvalue = [2, 1]'),\n",
       " Text(0.2847457627118644, 0.3, 'x[3] <= 23.775\\ngini = 0.444\\nsamples = 2\\nvalue = [2, 0]'),\n",
       " Text(0.2711864406779661, 0.26, 'gini = -4.0\\nsamples = 1\\nvalue = [1, 0]'),\n",
       " Text(0.2983050847457627, 0.26, 'gini = 0.0\\nsamples = 1\\nvalue = [1, 0]'),\n",
       " Text(0.31186440677966104, 0.3, 'gini = nan\\nsamples = 1\\nvalue = [0, 1]'),\n",
       " Text(0.2847457627118644, 0.46, 'gini = 0.0\\nsamples = 3\\nvalue = [3, 0]'),\n",
       " Text(0.2847457627118644, 0.54, 'gini = 0.0\\nsamples = 4\\nvalue = [0, 4]'),\n",
       " Text(0.39322033898305087, 0.66, 'x[3] <= 13.25\\ngini = 0.487\\nsamples = 38\\nvalue = [21, 17]'),\n",
       " Text(0.36610169491525424, 0.62, 'x[1] <= 863.5\\ngini = 0.291\\nsamples = 17\\nvalue = [14, 3]'),\n",
       " Text(0.3525423728813559, 0.58, 'x[1] <= 807.0\\ngini = 0.291\\nsamples = 14\\nvalue = [12, 2]'),\n",
       " Text(0.3389830508474576, 0.54, 'x[1] <= 753.0\\ngini = 0.245\\nsamples = 11\\nvalue = [9, 2]'),\n",
       " Text(0.3254237288135593, 0.5, 'x[0] <= 26.0\\ngini = 0.298\\nsamples = 8\\nvalue = [6, 2]'),\n",
       " Text(0.31186440677966104, 0.46, 'gini = -0.625\\nsamples = 4\\nvalue = [4, 0]'),\n",
       " Text(0.3389830508474576, 0.46, 'x[3] <= 11.75\\ngini = 0.375\\nsamples = 4\\nvalue = [2, 2]'),\n",
       " Text(0.3254237288135593, 0.42, 'gini = 0.0\\nsamples = 1\\nvalue = [0, 1]'),\n",
       " Text(0.3525423728813559, 0.42, 'gini = 0.444\\nsamples = 3\\nvalue = [2, 1]'),\n",
       " Text(0.3525423728813559, 0.5, 'gini = nan\\nsamples = 3\\nvalue = [3, 0]'),\n",
       " Text(0.36610169491525424, 0.54, 'gini = nan\\nsamples = 3\\nvalue = [3, 0]'),\n",
       " Text(0.37966101694915255, 0.58, 'gini = nan\\nsamples = 3\\nvalue = [2, 1]'),\n",
       " Text(0.42033898305084744, 0.62, 'x[1] <= 797.0\\ngini = 0.444\\nsamples = 21\\nvalue = [7, 14]'),\n",
       " Text(0.4067796610169492, 0.58, 'x[3] <= 24.294\\ngini = 0.492\\nsamples = 13\\nvalue = [7, 6]'),\n",
       " Text(0.39322033898305087, 0.54, 'gini = 0.0\\nsamples = 3\\nvalue = [0, 3]'),\n",
       " Text(0.42033898305084744, 0.54, 'x[3] <= 26.269\\ngini = 0.42\\nsamples = 10\\nvalue = [7, 3]'),\n",
       " Text(0.4067796610169492, 0.5, 'gini = 0.0\\nsamples = 5\\nvalue = [5, 0]'),\n",
       " Text(0.43389830508474575, 0.5, 'x[3] <= 26.419\\ngini = 0.48\\nsamples = 5\\nvalue = [2, 3]'),\n",
       " Text(0.42033898305084744, 0.46, 'gini = 0.5\\nsamples = 2\\nvalue = [0, 2]'),\n",
       " Text(0.44745762711864406, 0.46, 'x[1] <= 726.5\\ngini = 0.444\\nsamples = 3\\nvalue = [2, 1]'),\n",
       " Text(0.43389830508474575, 0.42, 'gini = 0.0\\nsamples = 1\\nvalue = [1, 0]'),\n",
       " Text(0.4610169491525424, 0.42, 'gini = 0.5\\nsamples = 2\\nvalue = [1, 1]'),\n",
       " Text(0.43389830508474575, 0.58, 'gini = 0.0\\nsamples = 8\\nvalue = [0, 8]'),\n",
       " Text(0.5016949152542373, 0.7, 'x[3] <= 29.85\\ngini = 0.375\\nsamples = 16\\nvalue = [12, 4]'),\n",
       " Text(0.488135593220339, 0.66, 'x[1] <= 705.5\\ngini = 0.32\\nsamples = 13\\nvalue = [11, 2]'),\n",
       " Text(0.4745762711864407, 0.62, 'x[2] <= 1.5\\ngini = 0.26\\nsamples = 11\\nvalue = [10, 1]'),\n",
       " Text(0.4610169491525424, 0.58, 'gini = -0.48\\nsamples = 5\\nvalue = [5, 0]'),\n",
       " Text(0.488135593220339, 0.58, 'x[3] <= 11.425\\ngini = 0.444\\nsamples = 6\\nvalue = [5, 1]'),\n",
       " Text(0.4745762711864407, 0.54, 'gini = 0.5\\nsamples = 2\\nvalue = [1, 1]'),\n",
       " Text(0.5016949152542373, 0.54, 'gini = 0.0\\nsamples = 4\\nvalue = [4, 0]'),\n",
       " Text(0.5016949152542373, 0.62, 'gini = nan\\nsamples = 2\\nvalue = [1, 1]'),\n",
       " Text(0.5152542372881356, 0.66, 'gini = 0.0\\nsamples = 3\\nvalue = [1, 2]'),\n",
       " Text(0.6716101694915254, 0.9, 'x[3] <= 52.277\\ngini = 0.427\\nsamples = 140\\nvalue = [49, 91]'),\n",
       " Text(0.5694915254237288, 0.86, 'x[0] <= 24.5\\ngini = 0.478\\nsamples = 33\\nvalue = [20, 13]'),\n",
       " Text(0.5559322033898305, 0.82, 'gini = 0.219\\nsamples = 8\\nvalue = [1, 7]'),\n",
       " Text(0.5830508474576271, 0.82, 'x[0] <= 47.5\\ngini = 0.365\\nsamples = 25\\nvalue = [19, 6]'),\n",
       " Text(0.5559322033898305, 0.78, 'x[1] <= 70.0\\ngini = 0.266\\nsamples = 19\\nvalue = [16, 3]'),\n",
       " Text(0.5423728813559322, 0.74, 'gini = 0.5\\nsamples = 2\\nvalue = [1, 1]'),\n",
       " Text(0.5694915254237288, 0.74, 'x[1] <= 590.5\\ngini = 0.208\\nsamples = 17\\nvalue = [15, 2]'),\n",
       " Text(0.5559322033898305, 0.7, 'x[0] <= 35.5\\ngini = 0.219\\nsamples = 9\\nvalue = [8, 1]'),\n",
       " Text(0.5423728813559322, 0.66, 'gini = 0.0\\nsamples = 2\\nvalue = [2, 0]'),\n",
       " Text(0.5694915254237288, 0.66, 'x[0] <= 35.5\\ngini = 0.245\\nsamples = 7\\nvalue = [6, 1]'),\n",
       " Text(0.5559322033898305, 0.62, 'gini = 0.0\\nsamples = 1\\nvalue = [0, 1]'),\n",
       " Text(0.5830508474576271, 0.62, 'gini = 0.0\\nsamples = 6\\nvalue = [6, 0]'),\n",
       " Text(0.5830508474576271, 0.7, 'gini = 0.0\\nsamples = 8\\nvalue = [7, 1]'),\n",
       " Text(0.6101694915254238, 0.78, 'x[1] <= 564.5\\ngini = 0.5\\nsamples = 6\\nvalue = [3, 3]'),\n",
       " Text(0.5966101694915255, 0.74, 'gini = 0.0\\nsamples = 3\\nvalue = [2, 1]'),\n",
       " Text(0.6237288135593221, 0.74, 'gini = 0.0\\nsamples = 3\\nvalue = [1, 2]'),\n",
       " Text(0.773728813559322, 0.86, 'x[1] <= 843.5\\ngini = 0.395\\nsamples = 107\\nvalue = [29, 78]'),\n",
       " Text(0.7237288135593221, 0.82, 'x[1] <= 161.5\\ngini = 0.395\\nsamples = 104\\nvalue = [29, 75]'),\n",
       " Text(0.6644067796610169, 0.78, 'x[1] <= 16.0\\ngini = 0.49\\nsamples = 14\\nvalue = [8, 6]'),\n",
       " Text(0.6508474576271186, 0.74, 'gini = 0.0\\nsamples = 2\\nvalue = [0, 2]'),\n",
       " Text(0.6779661016949152, 0.74, 'x[1] <= 111.0\\ngini = 0.444\\nsamples = 12\\nvalue = [8, 4]'),\n",
       " Text(0.6644067796610169, 0.7, 'x[0] <= 33.0\\ngini = 0.444\\nsamples = 8\\nvalue = [5, 3]'),\n",
       " Text(0.6508474576271186, 0.66, 'gini = 0.0\\nsamples = 4\\nvalue = [3, 1]'),\n",
       " Text(0.6779661016949152, 0.66, 'gini = 0.375\\nsamples = 4\\nvalue = [2, 2]'),\n",
       " Text(0.6915254237288135, 0.7, 'gini = nan\\nsamples = 4\\nvalue = [3, 1]'),\n",
       " Text(0.7830508474576271, 0.78, 'x[0] <= 63.0\\ngini = 0.358\\nsamples = 90\\nvalue = [21, 69]'),\n",
       " Text(0.7694915254237288, 0.74, 'x[0] <= 53.0\\ngini = 0.339\\nsamples = 88\\nvalue = [19, 69]'),\n",
       " Text(0.7559322033898305, 0.7, 'x[0] <= 43.5\\ngini = 0.359\\nsamples = 81\\nvalue = [19, 62]'),\n",
       " Text(0.7050847457627119, 0.66, 'x[0] <= 29.5\\ngini = 0.306\\nsamples = 69\\nvalue = [13, 56]'),\n",
       " Text(0.6440677966101694, 0.62, 'x[3] <= 134.642\\ngini = 0.388\\nsamples = 38\\nvalue = [10, 28]'),\n",
       " Text(0.5898305084745763, 0.58, 'x[0] <= 28.0\\ngini = 0.358\\nsamples = 26\\nvalue = [5, 21]'),\n",
       " Text(0.576271186440678, 0.54, 'x[0] <= 17.5\\ngini = 0.269\\nsamples = 25\\nvalue = [4, 21]'),\n",
       " Text(0.5627118644067797, 0.5, 'gini = 0.0\\nsamples = 10\\nvalue = [0, 10]'),\n",
       " Text(0.5898305084745763, 0.5, 'x[0] <= 20.0\\ngini = 0.391\\nsamples = 15\\nvalue = [4, 11]'),\n",
       " Text(0.576271186440678, 0.46, 'gini = 0.0\\nsamples = 3\\nvalue = [3, 0]'),\n",
       " Text(0.6033898305084746, 0.46, 'x[1] <= 635.0\\ngini = 0.153\\nsamples = 12\\nvalue = [1, 11]'),\n",
       " Text(0.5898305084745763, 0.42, 'x[2] <= 1.5\\ngini = 0.165\\nsamples = 8\\nvalue = [0, 8]'),\n",
       " Text(0.576271186440678, 0.38, 'gini = 0.0\\nsamples = 7\\nvalue = [0, 7]'),\n",
       " Text(0.6033898305084746, 0.38, 'gini = nan\\nsamples = 1\\nvalue = [0, 1]'),\n",
       " Text(0.6169491525423729, 0.42, 'gini = 0.0\\nsamples = 4\\nvalue = [1, 3]'),\n",
       " Text(0.6033898305084746, 0.54, 'gini = 0.0\\nsamples = 1\\nvalue = [1, 0]'),\n",
       " Text(0.6983050847457627, 0.58, 'x[1] <= 624.0\\ngini = 0.469\\nsamples = 12\\nvalue = [5, 7]'),\n",
       " Text(0.6847457627118644, 0.54, 'x[1] <= 358.0\\ngini = 0.469\\nsamples = 7\\nvalue = [5, 2]'),\n",
       " Text(0.6711864406779661, 0.5, 'x[3] <= 207.275\\ngini = 0.444\\nsamples = 3\\nvalue = [1, 2]'),\n",
       " Text(0.6576271186440678, 0.46, 'x[1] <= 302.0\\ngini = 0.444\\nsamples = 2\\nvalue = [1, 1]'),\n",
       " Text(0.6440677966101694, 0.42, 'gini = 0.0\\nsamples = 1\\nvalue = [1, 0]'),\n",
       " Text(0.6711864406779661, 0.42, 'gini = 0.0\\nsamples = 1\\nvalue = [0, 1]'),\n",
       " Text(0.6847457627118644, 0.46, 'gini = nan\\nsamples = 1\\nvalue = [0, 1]'),\n",
       " Text(0.6983050847457627, 0.5, 'gini = 0.0\\nsamples = 4\\nvalue = [4, 0]'),\n",
       " Text(0.711864406779661, 0.54, 'gini = 0.0\\nsamples = 5\\nvalue = [0, 5]'),\n",
       " Text(0.7661016949152543, 0.62, 'x[1] <= 795.0\\ngini = 0.175\\nsamples = 31\\nvalue = [3, 28]'),\n",
       " Text(0.752542372881356, 0.58, 'x[0] <= 42.5\\ngini = 0.175\\nsamples = 30\\nvalue = [3, 27]'),\n",
       " Text(0.7389830508474576, 0.54, 'x[1] <= 762.0\\ngini = 0.18\\nsamples = 29\\nvalue = [3, 26]'),\n",
       " Text(0.7254237288135593, 0.5, 'x[0] <= 41.5\\ngini = 0.185\\nsamples = 28\\nvalue = [3, 25]'),\n",
       " Text(0.711864406779661, 0.46, 'x[0] <= 40.5\\ngini = 0.191\\nsamples = 27\\nvalue = [3, 24]'),\n",
       " Text(0.6983050847457627, 0.42, 'x[2] <= 1.5\\ngini = 0.198\\nsamples = 26\\nvalue = [3, 23]'),\n",
       " Text(0.6847457627118644, 0.38, 'x[1] <= 751.0\\ngini = 0.204\\nsamples = 25\\nvalue = [2, 23]'),\n",
       " Text(0.6711864406779661, 0.34, 'x[0] <= 39.5\\ngini = 0.147\\nsamples = 24\\nvalue = [2, 22]'),\n",
       " Text(0.6576271186440678, 0.3, 'x[1] <= 740.0\\ngini = 0.153\\nsamples = 23\\nvalue = [2, 21]'),\n",
       " Text(0.6440677966101694, 0.26, 'x[1] <= 727.5\\ngini = 0.159\\nsamples = 22\\nvalue = [1, 21]'),\n",
       " Text(0.6305084745762712, 0.22, 'x[1] <= 704.0\\ngini = 0.087\\nsamples = 21\\nvalue = [1, 20]'),\n",
       " Text(0.6169491525423729, 0.18, 'x[1] <= 685.5\\ngini = 0.091\\nsamples = 20\\nvalue = [1, 19]'),\n",
       " Text(0.6033898305084746, 0.14, 'x[1] <= 631.0\\ngini = 0.095\\nsamples = 19\\nvalue = [1, 18]'),\n",
       " Text(0.5898305084745763, 0.1, 'x[1] <= 580.0\\ngini = 0.1\\nsamples = 18\\nvalue = [1, 17]'),\n",
       " Text(0.576271186440678, 0.06, 'x[3] <= 338.598\\ngini = 0.105\\nsamples = 17\\nvalue = [1, 16]'),\n",
       " Text(0.5627118644067797, 0.02, 'gini = 0.111\\nsamples = 16\\nvalue = [1, 15]'),\n",
       " Text(0.5898305084745763, 0.02, 'gini = nan\\nsamples = 1\\nvalue = [0, 1]'),\n",
       " Text(0.6033898305084746, 0.06, 'gini = nan\\nsamples = 1\\nvalue = [0, 1]'),\n",
       " Text(0.6169491525423729, 0.1, 'gini = nan\\nsamples = 1\\nvalue = [0, 1]'),\n",
       " Text(0.6305084745762712, 0.14, 'gini = nan\\nsamples = 1\\nvalue = [0, 1]'),\n",
       " Text(0.6440677966101694, 0.18, 'gini = nan\\nsamples = 1\\nvalue = [0, 1]'),\n",
       " Text(0.6576271186440678, 0.22, 'gini = nan\\nsamples = 1\\nvalue = [0, 1]'),\n",
       " Text(0.6711864406779661, 0.26, 'gini = nan\\nsamples = 1\\nvalue = [1, 0]'),\n",
       " Text(0.6847457627118644, 0.3, 'gini = nan\\nsamples = 1\\nvalue = [0, 1]'),\n",
       " Text(0.6983050847457627, 0.34, 'gini = nan\\nsamples = 1\\nvalue = [0, 1]'),\n",
       " Text(0.711864406779661, 0.38, 'gini = nan\\nsamples = 1\\nvalue = [1, 0]'),\n",
       " Text(0.7254237288135593, 0.42, 'gini = nan\\nsamples = 1\\nvalue = [0, 1]'),\n",
       " Text(0.7389830508474576, 0.46, 'gini = nan\\nsamples = 1\\nvalue = [0, 1]'),\n",
       " Text(0.752542372881356, 0.5, 'gini = nan\\nsamples = 1\\nvalue = [0, 1]'),\n",
       " Text(0.7661016949152543, 0.54, 'gini = nan\\nsamples = 1\\nvalue = [0, 1]'),\n",
       " Text(0.7796610169491526, 0.58, 'gini = nan\\nsamples = 1\\nvalue = [0, 1]'),\n",
       " Text(0.8067796610169492, 0.66, 'x[1] <= 444.5\\ngini = 0.5\\nsamples = 12\\nvalue = [6, 6]'),\n",
       " Text(0.7932203389830509, 0.62, 'gini = 0.0\\nsamples = 3\\nvalue = [3, 0]'),\n",
       " Text(0.8203389830508474, 0.62, 'x[3] <= 78.579\\ngini = 0.444\\nsamples = 9\\nvalue = [3, 6]'),\n",
       " Text(0.8067796610169492, 0.58, 'gini = 0.0\\nsamples = 4\\nvalue = [0, 4]'),\n",
       " Text(0.8338983050847457, 0.58, 'x[1] <= 680.0\\ngini = 0.48\\nsamples = 5\\nvalue = [3, 2]'),\n",
       " Text(0.8203389830508474, 0.54, 'x[3] <= 120.037\\ngini = 0.5\\nsamples = 3\\nvalue = [1, 2]'),\n",
       " Text(0.8067796610169492, 0.5, 'x[3] <= 97.765\\ngini = 0.444\\nsamples = 2\\nvalue = [1, 1]'),\n",
       " Text(0.7932203389830509, 0.46, 'gini = 0.0\\nsamples = 1\\nvalue = [0, 1]'),\n",
       " Text(0.8203389830508474, 0.46, 'gini = 0.0\\nsamples = 1\\nvalue = [1, 0]'),\n",
       " Text(0.8338983050847457, 0.5, 'gini = nan\\nsamples = 1\\nvalue = [0, 1]'),\n",
       " Text(0.847457627118644, 0.54, 'gini = 0.0\\nsamples = 2\\nvalue = [2, 0]'),\n",
       " Text(0.7830508474576271, 0.7, 'gini = 0.0\\nsamples = 7\\nvalue = [0, 7]'),\n",
       " Text(0.7966101694915254, 0.74, 'gini = 0.0\\nsamples = 2\\nvalue = [2, 0]'),\n",
       " Text(0.823728813559322, 0.82, 'x[3] <= 124.013\\ngini = nan\\nsamples = 3\\nvalue = [0, 3]'),\n",
       " Text(0.8101694915254237, 0.78, 'gini = 0.0\\nsamples = 2\\nvalue = [0, 2]'),\n",
       " Text(0.8372881355932204, 0.78, 'gini = nan\\nsamples = 1\\nvalue = [0, 1]'),\n",
       " Text(0.9186440677966101, 0.94, 'x[0] <= 6.5\\ngini = 0.366\\nsamples = 398\\nvalue = [302, 96]'),\n",
       " Text(0.9050847457627119, 0.9, 'gini = 0.497\\nsamples = 26\\nvalue = [12, 14]'),\n",
       " Text(0.9322033898305084, 0.9, 'x[0] <= 32.5\\ngini = 0.344\\nsamples = 372\\nvalue = [290, 82]'),\n",
       " Text(0.9186440677966101, 0.86, 'x[1] <= 37.5\\ngini = 0.374\\nsamples = 305\\nvalue = [229, 76]'),\n",
       " Text(0.8779661016949153, 0.82, 'x[0] <= 24.0\\ngini = 0.5\\nsamples = 14\\nvalue = [7, 7]'),\n",
       " Text(0.864406779661017, 0.78, 'gini = 0.32\\nsamples = 5\\nvalue = [4, 1]'),\n",
       " Text(0.8915254237288136, 0.78, 'x[0] <= 29.0\\ngini = 0.444\\nsamples = 9\\nvalue = [3, 6]'),\n",
       " Text(0.8779661016949153, 0.74, 'x[0] <= inf\\ngini = 0.375\\nsamples = 8\\nvalue = [2, 6]'),\n",
       " Text(0.864406779661017, 0.7, 'gini = 0.0\\nsamples = 2\\nvalue = [0, 2]'),\n",
       " Text(0.8915254237288136, 0.7, 'gini = 0.444\\nsamples = 6\\nvalue = [2, 4]'),\n",
       " Text(0.9050847457627119, 0.74, 'gini = 0.0\\nsamples = 1\\nvalue = [1, 0]'),\n",
       " Text(0.9593220338983051, 0.82, 'x[0] <= 30.5\\ngini = 0.362\\nsamples = 291\\nvalue = [222, 69]'),\n",
       " Text(0.9457627118644067, 0.78, 'x[3] <= 7.798\\ngini = 0.345\\nsamples = 275\\nvalue = [214, 61]'),\n",
       " Text(0.9322033898305084, 0.74, 'x[0] <= 14.0\\ngini = 0.444\\nsamples = 90\\nvalue = [63, 27]'),\n",
       " Text(0.9186440677966101, 0.7, 'gini = 0.0\\nsamples = 1\\nvalue = [0, 1]'),\n",
       " Text(0.9457627118644067, 0.7, 'x[3] <= 7.404\\ngini = 0.414\\nsamples = 89\\nvalue = [63, 26]'),\n",
       " Text(0.9322033898305084, 0.66, 'x[3] <= 2.006\\ngini = 0.439\\nsamples = 40\\nvalue = [32, 8]'),\n",
       " Text(0.9186440677966101, 0.62, 'gini = 0.5\\nsamples = 2\\nvalue = [1, 1]'),\n",
       " Text(0.9457627118644067, 0.62, 'x[3] <= 7.227\\ngini = 0.301\\nsamples = 38\\nvalue = [31, 7]'),\n",
       " Text(0.9322033898305084, 0.58, 'x[3] <= 6.804\\ngini = 0.388\\nsamples = 19\\nvalue = [15, 4]'),\n",
       " Text(0.9186440677966101, 0.54, 'gini = 0.0\\nsamples = 4\\nvalue = [4, 0]'),\n",
       " Text(0.9457627118644067, 0.54, 'x[1] <= 130.0\\ngini = 0.391\\nsamples = 15\\nvalue = [11, 4]'),\n",
       " Text(0.9322033898305084, 0.5, 'gini = 0.0\\nsamples = 1\\nvalue = [0, 1]'),\n",
       " Text(0.9593220338983051, 0.5, 'x[0] <= 16.0\\ngini = 0.337\\nsamples = 14\\nvalue = [11, 3]'),\n",
       " Text(0.9457627118644067, 0.46, 'gini = 0.0\\nsamples = 1\\nvalue = [0, 1]'),\n",
       " Text(0.9728813559322034, 0.46, 'x[0] <= 26.0\\ngini = 0.26\\nsamples = 13\\nvalue = [11, 2]'),\n",
       " Text(0.9593220338983051, 0.42, 'x[0] <= 23.5\\ngini = 0.153\\nsamples = 12\\nvalue = [11, 1]'),\n",
       " Text(0.9457627118644067, 0.38, 'gini = 0.375\\nsamples = 4\\nvalue = [3, 1]'),\n",
       " Text(0.9728813559322034, 0.38, 'gini = 0.0\\nsamples = 8\\nvalue = [8, 0]'),\n",
       " Text(0.9864406779661017, 0.42, 'gini = 0.0\\nsamples = 1\\nvalue = [0, 1]'),\n",
       " Text(0.9593220338983051, 0.58, 'gini = 0.188\\nsamples = 19\\nvalue = [16, 3]'),\n",
       " Text(0.9593220338983051, 0.66, 'gini = 0.39\\nsamples = 49\\nvalue = [31, 18]'),\n",
       " Text(0.9593220338983051, 0.74, 'gini = 0.279\\nsamples = 185\\nvalue = [151, 34]'),\n",
       " Text(0.9728813559322034, 0.78, 'gini = 0.5\\nsamples = 16\\nvalue = [8, 8]'),\n",
       " Text(0.9457627118644067, 0.86, 'gini = 0.163\\nsamples = 67\\nvalue = [61, 6]')]"
      ]
     },
     "execution_count": 120,
     "metadata": {},
     "output_type": "execute_result"
    },
    {
     "data": {
      "image/png": "[encoded data removed]",
      "text/plain": [
       "<Figure size 640x480 with 1 Axes>"
      ]
     },
     "metadata": {},
     "output_type": "display_data"
    }
   ],
   "source": [
    "plot_tree(arbol)"
   ]
  },
  {
   "cell_type": "markdown",
   "id": "f427673c-8967-451b-bf1f-7d76955e8b27",
   "metadata": {},
   "source": [
    "El árbol de decisión muestra las divisiones realizadas en los datos para clasificar a los pasajeros según su supervivencia. Las variables utilizadas en cada nodo indican su relevancia en la toma de decisiones.\n",
    "La variable Pclass aparece como un factor principal en las divisiones, lo que refuerza la hipótesis de que el estatus socioeconómico influye significativamente en las probabilidades de supervivencia."
   ]
  },
  {
   "cell_type": "code",
   "execution_count": 122,
   "id": "f879e48a-47d7-4cea-93eb-52865dc55386",
   "metadata": {},
   "outputs": [],
   "source": [
    "predicciones = arbol.predict(X_test)"
   ]
  },
  {
   "cell_type": "code",
   "execution_count": 124,
   "id": "ffce121d-c283-455b-a5ec-138e1617ea8e",
   "metadata": {},
   "outputs": [
    {
     "data": {
      "text/plain": [
       "array([0, 1, 0, 1, 0, 1, 0, 0, 0, 0, 0, 0, 0, 1, 1, 1, 1, 0, 0, 0, 0, 0,\n",
       "       0, 0, 0, 0, 1, 0, 1, 0, 0, 0, 0, 0, 0, 0, 0, 0, 0, 0, 0, 1, 0, 0,\n",
       "       0, 0, 0, 0, 0, 1, 1, 0, 0, 1, 0, 0, 1, 0, 0, 0, 0, 1, 1, 0, 0, 0,\n",
       "       0, 0, 0, 1, 0, 1, 1, 1, 0, 0, 0, 1, 1, 0, 0, 1, 1, 0, 0, 0, 1, 1,\n",
       "       0, 0, 0, 0, 1, 0, 0, 0, 1, 0, 1, 0, 0, 0, 0, 0, 0, 0, 0, 0, 0, 0,\n",
       "       0, 0, 1, 0, 0, 0, 0, 1, 1, 0, 1, 1, 1, 1, 0, 0, 0, 0, 0, 0, 0, 0,\n",
       "       0, 1, 1, 0, 1, 0, 0, 0, 0, 1, 1, 0, 0, 0, 0, 0, 0, 0, 0, 0, 0, 0,\n",
       "       0, 0, 0, 0, 0, 0, 0, 1, 0, 1, 1, 0, 1, 0, 0, 0, 0, 1, 0, 0, 0, 0,\n",
       "       0, 1, 1])"
      ]
     },
     "execution_count": 124,
     "metadata": {},
     "output_type": "execute_result"
    }
   ],
   "source": [
    "predicciones"
   ]
  },
  {
   "cell_type": "markdown",
   "id": "2a920a7b-040f-4c41-b7bd-e313ef55b1fd",
   "metadata": {},
   "source": [
    "Matriz de confusión"
   ]
  },
  {
   "cell_type": "code",
   "execution_count": 126,
   "id": "f8dcddfc-e6b5-4b40-a270-ff80e4489f95",
   "metadata": {},
   "outputs": [
    {
     "data": {
      "text/html": [
       "<div>\n",
       "<style scoped>\n",
       "    .dataframe tbody tr th:only-of-type {\n",
       "        vertical-align: middle;\n",
       "    }\n",
       "\n",
       "    .dataframe tbody tr th {\n",
       "        vertical-align: top;\n",
       "    }\n",
       "\n",
       "    .dataframe thead th {\n",
       "        text-align: right;\n",
       "    }\n",
       "</style>\n",
       "<table border=\"1\" class=\"dataframe\">\n",
       "  <thead>\n",
       "    <tr style=\"text-align: right;\">\n",
       "      <th>Predicciones</th>\n",
       "      <th>0</th>\n",
       "      <th>1</th>\n",
       "    </tr>\n",
       "    <tr>\n",
       "      <th>Actual</th>\n",
       "      <th></th>\n",
       "      <th></th>\n",
       "    </tr>\n",
       "  </thead>\n",
       "  <tbody>\n",
       "    <tr>\n",
       "      <th>0</th>\n",
       "      <td>89</td>\n",
       "      <td>16</td>\n",
       "    </tr>\n",
       "    <tr>\n",
       "      <th>1</th>\n",
       "      <td>42</td>\n",
       "      <td>32</td>\n",
       "    </tr>\n",
       "  </tbody>\n",
       "</table>\n",
       "</div>"
      ],
      "text/plain": [
       "Predicciones   0   1\n",
       "Actual              \n",
       "0             89  16\n",
       "1             42  32"
      ]
     },
     "execution_count": 126,
     "metadata": {},
     "output_type": "execute_result"
    }
   ],
   "source": [
    "# Examinamos la matriz de confusión\n",
    "pd.crosstab(\n",
    "    y_test,  # Usa y_test directamente\n",
    "    predicciones, \n",
    "    rownames=['Actual'], \n",
    "    colnames=['Predicciones']\n",
    ")"
   ]
  },
  {
   "cell_type": "markdown",
   "id": "5e4172e4-560c-4787-a0c2-bab821e31e07",
   "metadata": {},
   "source": [
    "El modelo identificó correctamente a 89 pasajeros que no sobrevivieron (verdaderos negativos) y a 32 que sobrevivieron (verdaderos positivos).\n",
    "Sin embargo, 16 pasajeros que no sobrevivieron fueron clasificados erróneamente como sobrevivientes (falsos positivos), mientras que 42 pasajeros que sobrevivieron fueron clasificados como no sobrevivientes (falsos negativos)."
   ]
  },
  {
   "cell_type": "markdown",
   "id": "192e80dc-8fb3-40a9-8d4d-64494b0f6eee",
   "metadata": {},
   "source": [
    "Métricas de evaluación"
   ]
  },
  {
   "cell_type": "code",
   "execution_count": 128,
   "id": "db0cd6b7-1f53-455f-8cd4-ddca970a65b1",
   "metadata": {},
   "outputs": [
    {
     "data": {
      "text/plain": [
       "0.6759776536312849"
      ]
     },
     "execution_count": 128,
     "metadata": {},
     "output_type": "execute_result"
    }
   ],
   "source": [
    "accuracy = accuracy_score(y_test,predicciones)\n",
    "accuracy"
   ]
  },
  {
   "cell_type": "markdown",
   "id": "e0771f8c-bde2-4c87-b028-5b016398f517",
   "metadata": {},
   "source": [
    "El modelo tiene una precisión moderada, ya que clasifica correctamente aproximadamente el 68% de los pasajeros."
   ]
  },
  {
   "cell_type": "code",
   "execution_count": 130,
   "id": "9b4fadd4-d928-44b0-9f6d-4686d6397dca",
   "metadata": {},
   "outputs": [
    {
     "data": {
      "text/plain": [
       "0.6741296714856355"
      ]
     },
     "execution_count": 130,
     "metadata": {},
     "output_type": "execute_result"
    }
   ],
   "source": [
    "precision = precision_score(y_test, predicciones, average='weighted')\n",
    "precision"
   ]
  },
  {
   "cell_type": "markdown",
   "id": "8e66041e-cd48-4ad6-a945-499aa0ef8aab",
   "metadata": {},
   "source": [
    "De todas las predicciones positivas realizadas por el modelo (es decir, predicciones de que un pasajero sobrevivió), el 67.41% fueron correctas."
   ]
  },
  {
   "cell_type": "code",
   "execution_count": 132,
   "id": "7093951d-2c02-495d-b163-94712c20f65f",
   "metadata": {},
   "outputs": [
    {
     "data": {
      "text/plain": [
       "0.6759776536312849"
      ]
     },
     "execution_count": 132,
     "metadata": {},
     "output_type": "execute_result"
    }
   ],
   "source": [
    "recall = recall_score(y_test, predicciones, average='weighted')\n",
    "recall"
   ]
  },
  {
   "cell_type": "markdown",
   "id": "e0669cc5-e165-4401-8bc2-1e75aed16d69",
   "metadata": {},
   "source": [
    " El modelo identifica correctamente a aproximadamente el 67.59% de los pasajeros que realmente sobrevivieron."
   ]
  },
  {
   "cell_type": "code",
   "execution_count": 134,
   "id": "43c21fa7-edfc-4bb9-a129-9b4e8cc59cfa",
   "metadata": {},
   "outputs": [
    {
     "data": {
      "text/plain": [
       "0.6592993708680717"
      ]
     },
     "execution_count": 134,
     "metadata": {},
     "output_type": "execute_result"
    }
   ],
   "source": [
    "f1 = f1_score(y_test, predicciones, average='weighted')\n",
    "f1"
   ]
  },
  {
   "cell_type": "markdown",
   "id": "8cacd434-b378-42bf-856f-59577500c042",
   "metadata": {},
   "source": [
    "El F1-score combina precisión y recall, lo que indica que el modelo tiene un desempeño equilibrado pero moderado."
   ]
  }
 ],
 "metadata": {
  "kernelspec": {
   "display_name": "anaconda-ai-2024.04-py310",
   "language": "python",
   "name": "conda-env-anaconda-ai-2024.04-py310-py"
  },
  "language_info": {
   "codemirror_mode": {
    "name": "ipython",
    "version": 3
   },
   "file_extension": ".py",
   "mimetype": "text/x-python",
   "name": "python",
   "nbconvert_exporter": "python",
   "pygments_lexer": "ipython3",
   "version": "3.10.13"
  }
 },
 "nbformat": 4,
 "nbformat_minor": 5
}
